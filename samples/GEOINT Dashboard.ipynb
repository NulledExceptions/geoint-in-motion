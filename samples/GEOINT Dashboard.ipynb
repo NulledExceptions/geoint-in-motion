{
 "cells": [
  {
   "cell_type": "code",
   "execution_count": 1,
   "metadata": {
    "extensions": {
     "jupyter_dashboards": {
      "version": 1,
      "views": {
       "grid_default": {
        "hidden": true
       },
       "report_default": {}
      }
     }
    }
   },
   "outputs": [],
   "source": [
    "# Jupyter\n",
    "from IPython.display import display, clear_output\n",
    "import ipywidgets as widgets\n",
    "\n",
    "# Python API\n",
    "from arcgis.geometry import Geometry, SpatialReference\n",
    "from arcgis.gis import GIS\n",
    "\n",
    "# NGA\n",
    "from src.uid_evaluation import eval_service_attributes, eval_service_geometries\n",
    "from osm_runner import *\n",
    "\n",
    "# Other\n",
    "import getpass\n",
    "import time"
   ]
  },
  {
   "cell_type": "code",
   "execution_count": null,
   "metadata": {
    "extensions": {
     "jupyter_dashboards": {
      "version": 1,
      "views": {
       "grid_default": {
        "col": 0,
        "height": 3,
        "hidden": false,
        "row": 5,
        "width": 12
       },
       "report_default": {}
      }
     }
    }
   },
   "outputs": [],
   "source": [
    "# Get Target GIS for Item Publication\n",
    "gis = GIS()\n",
    "while gis._url == 'http://www.arcgis.com':\n",
    "    \n",
    "    clear_output()\n",
    "    \n",
    "    gis_url  = input('Please Enter Your GIS URL:  ')\n",
    "    username = input('Please Enter Your Username: ')\n",
    "    password = getpass.getpass('Please Enter Your Password: ')\n",
    "    \n",
    "    try:\n",
    "        gis = GIS(gis_url, username, password)\n",
    "                  \n",
    "    except:\n",
    "        pass\n",
    "    \n",
    "print('Connected: {}'.format(gis))"
   ]
  },
  {
   "cell_type": "code",
   "execution_count": null,
   "metadata": {
    "extensions": {
     "jupyter_dashboards": {
      "version": 1,
      "views": {
       "grid_default": {
        "hidden": true
       },
       "report_default": {}
      }
     }
    }
   },
   "outputs": [],
   "source": [
    "# Set OSM Tags with Friendly Names\n",
    "osm_tag_dict = {\n",
    "    \"Aerialway\":        \"aerialway\",\n",
    "    \"Aeroway\":          \"aeroway\",\n",
    "    \"Amenity\":          \"amenity\",\n",
    "    \"Barrier\":          \"barrier\",\n",
    "    \"Boundary\":         \"boundary\",\n",
    "    \"Building\":         \"building\",\n",
    "    \"Craft\":            \"craft\",\n",
    "    \"Emergency\":        \"emergency\",\n",
    "    \"Geological\":       \"geological\",\n",
    "    \"Highway\":          \"highway\",\n",
    "    \"Historic\":         \"historic\",\n",
    "    \"Landuse\":          \"landuse\",\n",
    "    \"Leisure\":          \"leisure\",\n",
    "    \"Man Made\":         \"man_made\",\n",
    "    \"Military\":         \"military\",\n",
    "    \"Natural\":          \"natural\",\n",
    "    \"Office\":           \"office\",\n",
    "    \"Place\":            \"place\",\n",
    "    \"Power\":            \"power\",\n",
    "    \"Public Transport\": \"public transport\",\n",
    "    \"Railway\":          \"railway\",\n",
    "    \"Route\":            \"route\",\n",
    "    \"Shop\":             \"shop\",\n",
    "    \"Sport\":            \"sport\",\n",
    "    \"Tourism\":          \"tourism\",\n",
    "    \"Waterway\":         \"waterway\"\n",
    "}"
   ]
  },
  {
   "cell_type": "code",
   "execution_count": null,
   "metadata": {
    "extensions": {
     "jupyter_dashboards": {
      "version": 1,
      "views": {
       "grid_default": {
        "col": 0,
        "height": 4,
        "hidden": false,
        "row": 58,
        "width": 4
       },
       "report_default": {}
      }
     }
    }
   },
   "outputs": [],
   "source": [
    "%%html\n",
    "<style>\n",
    ".intro {\n",
    "    padding: 10px; \n",
    "    color: #202020;\n",
    "    font-family: 'Helvetica'\n",
    "}\n",
    ".map {\n",
    "    border: solid;\n",
    "    height: 450px;\n",
    "}\n",
    "</style>"
   ]
  },
  {
   "cell_type": "markdown",
   "metadata": {
    "extensions": {
     "jupyter_dashboards": {
      "version": 1,
      "views": {
       "grid_default": {
        "col": 0,
        "height": 5,
        "hidden": false,
        "row": 0,
        "width": 12
       },
       "report_default": {}
      }
     }
    }
   },
   "source": [
    "## GEOINT Dashboard\n",
    "\n",
    "### Aftering logging in to your Portal, you can use the console below to query OSM data and compare two time periods against the GEOINT tools. Selecting the Run GEOINT tool will create outputs for the OSM features at time one and two, as well as any outputs from the Attributes and Geometry GEOINT analysis tool."
   ]
  },
  {
   "cell_type": "code",
   "execution_count": null,
   "metadata": {
    "extensions": {
     "jupyter_dashboards": {
      "version": 1,
      "views": {
       "grid_default": {
        "hidden": true
       },
       "report_default": {}
      }
     }
    }
   },
   "outputs": [],
   "source": [
    "# Converting Map Widget Extent into a Tuple for OSM Query\n",
    "def collect_extent(e):\n",
    "\n",
    "    # Strip Min/Max For Geometry Iterable\n",
    "    min_set = {k[:1]:v for k,v in e.items() if k in ['ymin', 'xmin']}\n",
    "    max_set = {k[:1]:v for k,v in e.items() if k in ['ymax', 'xmax']}\n",
    "\n",
    "    box = []\n",
    "    for geo_set in [min_set, max_set]:\n",
    "        # Create Arbitrary Point Geometry For Values in Decimal Degrees\n",
    "        geo_set.update({'spatialReference': e.get('spatialReference')})\n",
    "        point = Geometry(geo_set).project_as(4326)\n",
    "        box.append(point.get('y'))\n",
    "        box.append(point.get('x'))   \n",
    "\n",
    "    return tuple(box)"
   ]
  },
  {
   "cell_type": "code",
   "execution_count": null,
   "metadata": {
    "extensions": {
     "jupyter_dashboards": {
      "version": 1,
      "views": {
       "grid_default": {
        "hidden": true
       },
       "report_default": {}
      }
     }
    }
   },
   "outputs": [],
   "source": [
    "# on_click() Logic\n",
    "def running(button_object):\n",
    "    \n",
    "    clear_output()\n",
    "    \n",
    "    # Get Date YYYY-MM-DD From DatePicker\n",
    "    t1  = str(t1_sel.value)[:10] if t1_sel.value else None\n",
    "    t2  = str(t2_sel.value)[:10] if t2_sel.value else None\n",
    "\n",
    "    # Collect OSM Values\n",
    "    geo_val = geo_sel.value\n",
    "    osm_val = osm_sel.value\n",
    "    bbox    = collect_extent(viz_map.extent)\n",
    "\n",
    "    if not t1 or not t2:\n",
    "        print('Please Specify A Start & End Time')\n",
    "        \n",
    "    else:\n",
    "        print('Creating OSM SDF for Time One')\n",
    "        t1_sdf = gen_osm_sdf(geo_val, bbox, osm_val, t1)\n",
    "        print('Features Returned: {}'.format(len(t1_sdf)))\n",
    "        \n",
    "        t1_color = [46, 255, 0, 255]\n",
    "        map_draw(t1_sdf.to_featureset(), t1_color)\n",
    "        \n",
    "        print('Creating OSM SDF for Time Two')\n",
    "        t2_sdf = gen_osm_sdf(geo_val, bbox, osm_val, t2)\n",
    "        print('Features Returned: {}'.format(len(t2_sdf)))\n",
    "        \n",
    "        t2_color = [0, 42, 255, 255]\n",
    "        map_draw(t2_sdf.to_featureset(), t2_color)\n",
    "        \n",
    "        print('Creating Hosted Feature Layer for Time One . . .')\n",
    "        t1_lyr = t1_sdf.to_featurelayer(\n",
    "            '{}_{}'.format('Time One', int(time.time())),\n",
    "            gis=gis, \n",
    "            tags='GEOINT'\n",
    "        )\n",
    "        display(t1_lyr)\n",
    "        \n",
    "        print('Creating Hosted Feature Layer for Time Two . . .')\n",
    "        t2_lyr = t2_sdf.to_featurelayer(\n",
    "            '{}_{}'.format('Time Two', int(time.time())),\n",
    "            gis=gis, \n",
    "            tags='GEOINT'\n",
    "        )\n",
    "        display(t2_lyr)\n",
    "        \n",
    "        # Process GEOINT\n",
    "        if tool_sel.value == 'Attributes':\n",
    "            print('Processing Attributes with GEOINT . . .')\n",
    "            res_list = (eval_service_attributes(t1_lyr.url, t2_lyr.url, 'osm_id', gis=gis))\n",
    "            for item in res_list:\n",
    "                display(item)\n",
    "                \n",
    "        else:\n",
    "            print('Processing Geometries with GEOINT . . .')\n",
    "            res_list = (eval_service_geometries(t1_lyr.url, t2_lyr.url, 'osm_id', gis=gis))\n",
    "            for item in res_list:\n",
    "                display(item)"
   ]
  },
  {
   "cell_type": "code",
   "execution_count": null,
   "metadata": {
    "extensions": {
     "jupyter_dashboards": {
      "version": 1,
      "views": {
       "grid_default": {
        "hidden": true
       },
       "report_default": {}
      }
     }
    }
   },
   "outputs": [],
   "source": [
    "# Create Popup\n",
    "def map_draw(feature_set, color):\n",
    "    \n",
    "    for feature in feature_set:\n",
    "        viz_map.draw(\n",
    "            feature.geometry,\n",
    "            popup={\n",
    "                'title': 'OSM ID: ' + feature.attributes['osm_id'] , \n",
    "                'content': \"{}\".format(\n",
    "                    '<br/>'.join([\n",
    "                        '%s: %s' % (key.upper(), value) for (key, value) in feature.attributes.items()\n",
    "                    ])\n",
    "                )\n",
    "            },\n",
    "            symbol={'type': 'esriSLS', 'color': color}\n",
    "        )"
   ]
  },
  {
   "cell_type": "code",
   "execution_count": null,
   "metadata": {
    "extensions": {
     "jupyter_dashboards": {
      "version": 1,
      "views": {
       "grid_default": {
        "col": 0,
        "height": 50,
        "hidden": false,
        "row": 8,
        "width": null
       },
       "report_default": {}
      }
     }
    }
   },
   "outputs": [],
   "source": [
    "# Create & Display Map\n",
    "viz_map = gis.map('Stanton Park, DC')\n",
    "viz_map.basemap = 'dark-gray'\n",
    "display(viz_map)\n",
    "\n",
    "# Set Options For Return Geometry\n",
    "tool_sel = widgets.Dropdown(\n",
    "    options=['Attributes', 'Geometries'],\n",
    "    description='Run Selected Tool',\n",
    "    value='Attributes'\n",
    ")\n",
    "\n",
    "# Set Options For Return Geometry\n",
    "geo_sel = widgets.Dropdown(\n",
    "    options=['Point', 'Line', 'Polygon'],\n",
    "    description='Geometry',\n",
    "    value='Line'\n",
    ")\n",
    "\n",
    "# Set Options for OSM Tags\n",
    "osm_sel = widgets.Dropdown(\n",
    "    options=(sorted(osm_tag_dict.items(), key=lambda item: item[0])),\n",
    "    description='Feature',\n",
    "    value='highway'\n",
    ")\n",
    "\n",
    "# Create Submit Button & Set on_click\n",
    "run_btn = widgets.Button(\n",
    "    description='Run GEOINT',\n",
    "    button_style='success',\n",
    "    tooltip='Run Selected GEOINT Tool',\n",
    "    layout=widgets.Layout(justify_content='center', margin='0px 0px 0px 10px')\n",
    ")\n",
    "run_btn.on_click(running)\n",
    "\n",
    "# Set Options for Time Selection\n",
    "t1_sel = widgets.DatePicker(description='Time One')\n",
    "t2_sel = widgets.DatePicker(description='Time Two')\n",
    "\n",
    "# Handle Widget Layout\n",
    "params_a = widgets.HBox(\n",
    "    [geo_sel, osm_sel, t1_sel, t2_sel], \n",
    "    layout=widgets.Layout(justify_content='center', margin='10px')\n",
    ")\n",
    "# Handle Widget Layout\n",
    "params_b = widgets.HBox(\n",
    "    [tool_sel, run_btn], \n",
    "    layout=widgets.Layout(justify_content='center', margin='10px')\n",
    ")\n",
    "display(params_a)\n",
    "display(params_b)"
   ]
  }
 ],
 "metadata": {
  "extensions": {
   "jupyter_dashboards": {
    "activeView": "grid_default",
    "version": 1,
    "views": {
     "grid_default": {
      "cellMargin": 10,
      "defaultCellHeight": 20,
      "maxColumns": 12,
      "name": "grid",
      "type": "grid"
     },
     "report_default": {
      "name": "report",
      "type": "report"
     }
    }
   }
  },
  "kernelspec": {
   "display_name": "Python 3",
   "language": "python",
   "name": "python3"
  },
  "language_info": {
   "codemirror_mode": {
    "name": "ipython",
    "version": 3
   },
   "file_extension": ".py",
   "mimetype": "text/x-python",
   "name": "python",
   "nbconvert_exporter": "python",
   "pygments_lexer": "ipython3",
   "version": "3.6.2"
  }
 },
 "nbformat": 4,
 "nbformat_minor": 2
}
